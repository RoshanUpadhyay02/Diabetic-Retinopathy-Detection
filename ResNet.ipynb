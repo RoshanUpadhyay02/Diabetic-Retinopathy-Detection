{
  "nbformat": 4,
  "nbformat_minor": 0,
  "metadata": {
    "colab": {
      "provenance": []
    },
    "kernelspec": {
      "name": "python3",
      "display_name": "Python 3"
    },
    "language_info": {
      "name": "python"
    },
    "accelerator": "GPU",
    "gpuClass": "standard"
  },
  "cells": [
    {
      "cell_type": "code",
      "execution_count": 2,
      "metadata": {
        "id": "526lXUb6TfOL"
      },
      "outputs": [],
      "source": [
        "!pip install -q kaggle"
      ]
    },
    {
      "cell_type": "code",
      "source": [
        "from google.colab import files\n",
        "files.upload()"
      ],
      "metadata": {
        "colab": {
          "base_uri": "https://localhost:8080/",
          "height": 91
        },
        "id": "nt9uchA2Tiu0",
        "outputId": "0d8cee2c-22fc-47cd-8a7b-efca1254d707"
      },
      "execution_count": 3,
      "outputs": [
        {
          "output_type": "display_data",
          "data": {
            "text/plain": [
              "<IPython.core.display.HTML object>"
            ],
            "text/html": [
              "\n",
              "     <input type=\"file\" id=\"files-8c65c724-8cbb-4601-ad84-f30c2210b169\" name=\"files[]\" multiple disabled\n",
              "        style=\"border:none\" />\n",
              "     <output id=\"result-8c65c724-8cbb-4601-ad84-f30c2210b169\">\n",
              "      Upload widget is only available when the cell has been executed in the\n",
              "      current browser session. Please rerun this cell to enable.\n",
              "      </output>\n",
              "      <script>// Copyright 2017 Google LLC\n",
              "//\n",
              "// Licensed under the Apache License, Version 2.0 (the \"License\");\n",
              "// you may not use this file except in compliance with the License.\n",
              "// You may obtain a copy of the License at\n",
              "//\n",
              "//      http://www.apache.org/licenses/LICENSE-2.0\n",
              "//\n",
              "// Unless required by applicable law or agreed to in writing, software\n",
              "// distributed under the License is distributed on an \"AS IS\" BASIS,\n",
              "// WITHOUT WARRANTIES OR CONDITIONS OF ANY KIND, either express or implied.\n",
              "// See the License for the specific language governing permissions and\n",
              "// limitations under the License.\n",
              "\n",
              "/**\n",
              " * @fileoverview Helpers for google.colab Python module.\n",
              " */\n",
              "(function(scope) {\n",
              "function span(text, styleAttributes = {}) {\n",
              "  const element = document.createElement('span');\n",
              "  element.textContent = text;\n",
              "  for (const key of Object.keys(styleAttributes)) {\n",
              "    element.style[key] = styleAttributes[key];\n",
              "  }\n",
              "  return element;\n",
              "}\n",
              "\n",
              "// Max number of bytes which will be uploaded at a time.\n",
              "const MAX_PAYLOAD_SIZE = 100 * 1024;\n",
              "\n",
              "function _uploadFiles(inputId, outputId) {\n",
              "  const steps = uploadFilesStep(inputId, outputId);\n",
              "  const outputElement = document.getElementById(outputId);\n",
              "  // Cache steps on the outputElement to make it available for the next call\n",
              "  // to uploadFilesContinue from Python.\n",
              "  outputElement.steps = steps;\n",
              "\n",
              "  return _uploadFilesContinue(outputId);\n",
              "}\n",
              "\n",
              "// This is roughly an async generator (not supported in the browser yet),\n",
              "// where there are multiple asynchronous steps and the Python side is going\n",
              "// to poll for completion of each step.\n",
              "// This uses a Promise to block the python side on completion of each step,\n",
              "// then passes the result of the previous step as the input to the next step.\n",
              "function _uploadFilesContinue(outputId) {\n",
              "  const outputElement = document.getElementById(outputId);\n",
              "  const steps = outputElement.steps;\n",
              "\n",
              "  const next = steps.next(outputElement.lastPromiseValue);\n",
              "  return Promise.resolve(next.value.promise).then((value) => {\n",
              "    // Cache the last promise value to make it available to the next\n",
              "    // step of the generator.\n",
              "    outputElement.lastPromiseValue = value;\n",
              "    return next.value.response;\n",
              "  });\n",
              "}\n",
              "\n",
              "/**\n",
              " * Generator function which is called between each async step of the upload\n",
              " * process.\n",
              " * @param {string} inputId Element ID of the input file picker element.\n",
              " * @param {string} outputId Element ID of the output display.\n",
              " * @return {!Iterable<!Object>} Iterable of next steps.\n",
              " */\n",
              "function* uploadFilesStep(inputId, outputId) {\n",
              "  const inputElement = document.getElementById(inputId);\n",
              "  inputElement.disabled = false;\n",
              "\n",
              "  const outputElement = document.getElementById(outputId);\n",
              "  outputElement.innerHTML = '';\n",
              "\n",
              "  const pickedPromise = new Promise((resolve) => {\n",
              "    inputElement.addEventListener('change', (e) => {\n",
              "      resolve(e.target.files);\n",
              "    });\n",
              "  });\n",
              "\n",
              "  const cancel = document.createElement('button');\n",
              "  inputElement.parentElement.appendChild(cancel);\n",
              "  cancel.textContent = 'Cancel upload';\n",
              "  const cancelPromise = new Promise((resolve) => {\n",
              "    cancel.onclick = () => {\n",
              "      resolve(null);\n",
              "    };\n",
              "  });\n",
              "\n",
              "  // Wait for the user to pick the files.\n",
              "  const files = yield {\n",
              "    promise: Promise.race([pickedPromise, cancelPromise]),\n",
              "    response: {\n",
              "      action: 'starting',\n",
              "    }\n",
              "  };\n",
              "\n",
              "  cancel.remove();\n",
              "\n",
              "  // Disable the input element since further picks are not allowed.\n",
              "  inputElement.disabled = true;\n",
              "\n",
              "  if (!files) {\n",
              "    return {\n",
              "      response: {\n",
              "        action: 'complete',\n",
              "      }\n",
              "    };\n",
              "  }\n",
              "\n",
              "  for (const file of files) {\n",
              "    const li = document.createElement('li');\n",
              "    li.append(span(file.name, {fontWeight: 'bold'}));\n",
              "    li.append(span(\n",
              "        `(${file.type || 'n/a'}) - ${file.size} bytes, ` +\n",
              "        `last modified: ${\n",
              "            file.lastModifiedDate ? file.lastModifiedDate.toLocaleDateString() :\n",
              "                                    'n/a'} - `));\n",
              "    const percent = span('0% done');\n",
              "    li.appendChild(percent);\n",
              "\n",
              "    outputElement.appendChild(li);\n",
              "\n",
              "    const fileDataPromise = new Promise((resolve) => {\n",
              "      const reader = new FileReader();\n",
              "      reader.onload = (e) => {\n",
              "        resolve(e.target.result);\n",
              "      };\n",
              "      reader.readAsArrayBuffer(file);\n",
              "    });\n",
              "    // Wait for the data to be ready.\n",
              "    let fileData = yield {\n",
              "      promise: fileDataPromise,\n",
              "      response: {\n",
              "        action: 'continue',\n",
              "      }\n",
              "    };\n",
              "\n",
              "    // Use a chunked sending to avoid message size limits. See b/62115660.\n",
              "    let position = 0;\n",
              "    do {\n",
              "      const length = Math.min(fileData.byteLength - position, MAX_PAYLOAD_SIZE);\n",
              "      const chunk = new Uint8Array(fileData, position, length);\n",
              "      position += length;\n",
              "\n",
              "      const base64 = btoa(String.fromCharCode.apply(null, chunk));\n",
              "      yield {\n",
              "        response: {\n",
              "          action: 'append',\n",
              "          file: file.name,\n",
              "          data: base64,\n",
              "        },\n",
              "      };\n",
              "\n",
              "      let percentDone = fileData.byteLength === 0 ?\n",
              "          100 :\n",
              "          Math.round((position / fileData.byteLength) * 100);\n",
              "      percent.textContent = `${percentDone}% done`;\n",
              "\n",
              "    } while (position < fileData.byteLength);\n",
              "  }\n",
              "\n",
              "  // All done.\n",
              "  yield {\n",
              "    response: {\n",
              "      action: 'complete',\n",
              "    }\n",
              "  };\n",
              "}\n",
              "\n",
              "scope.google = scope.google || {};\n",
              "scope.google.colab = scope.google.colab || {};\n",
              "scope.google.colab._files = {\n",
              "  _uploadFiles,\n",
              "  _uploadFilesContinue,\n",
              "};\n",
              "})(self);\n",
              "</script> "
            ]
          },
          "metadata": {}
        },
        {
          "output_type": "stream",
          "name": "stdout",
          "text": [
            "Saving kaggle.json to kaggle.json\n"
          ]
        },
        {
          "output_type": "execute_result",
          "data": {
            "text/plain": [
              "{'kaggle.json': b'{\"username\":\"upadhyayroshan\",\"key\":\"0549699db6f2d465b7b5794ac37a2262\"}'}"
            ]
          },
          "metadata": {},
          "execution_count": 3
        }
      ]
    },
    {
      "cell_type": "code",
      "source": [
        "#Make a directory named kaggle and copy the kaggle.json file there.\n",
        "!mkdir -p ~/.kaggle\n",
        "!cp kaggle.json ~/.kaggle/\n",
        "# change the permission of the file\n",
        "!chmod 600 ~/.kaggle/kaggle.json"
      ],
      "metadata": {
        "id": "kXGs1EZFTlna"
      },
      "execution_count": 4,
      "outputs": []
    },
    {
      "cell_type": "code",
      "source": [
        "!kaggle datasets download -d mohammadasimbluemoon/diabeticretinopathyddraptos2019messidorbalanced"
      ],
      "metadata": {
        "colab": {
          "base_uri": "https://localhost:8080/"
        },
        "id": "7UZONQEETt2r",
        "outputId": "427997db-9374-4941-a59e-4e6f5273fe79"
      },
      "execution_count": 5,
      "outputs": [
        {
          "output_type": "stream",
          "name": "stdout",
          "text": [
            "Downloading diabeticretinopathyddraptos2019messidorbalanced.zip to /content\n",
            "100% 3.73G/3.73G [03:00<00:00, 23.2MB/s]\n",
            "100% 3.73G/3.73G [03:00<00:00, 22.2MB/s]\n"
          ]
        }
      ]
    },
    {
      "cell_type": "code",
      "source": [
        "from zipfile import ZipFile\n",
        "file_name = 'diabeticretinopathyddraptos2019messidorbalanced.zip' \n",
        "with ZipFile(file_name, 'r') as zip:\n",
        "  zip.extractall()\n",
        "  print('Done')"
      ],
      "metadata": {
        "colab": {
          "base_uri": "https://localhost:8080/"
        },
        "id": "RVb3YCkwTv2e",
        "outputId": "3c8e8b77-941a-4d63-8fb8-a29ea3adb389"
      },
      "execution_count": 6,
      "outputs": [
        {
          "output_type": "stream",
          "name": "stdout",
          "text": [
            "Done\n"
          ]
        }
      ]
    },
    {
      "cell_type": "code",
      "source": [
        "import os                           \n",
        "from PIL import Image                \n",
        "import cv2 as cv                    \n",
        "import numpy as np                   \n",
        "import matplotlib.pyplot as plt       "
      ],
      "metadata": {
        "id": "G-ptQAiXTyE_"
      },
      "execution_count": 7,
      "outputs": []
    },
    {
      "cell_type": "code",
      "source": [
        "def get_data():\n",
        "    \n",
        "    dim = (100,100) \n",
        "    \n",
        "    for i in range(0,5):\n",
        "        print(\"\\nCurrent Working dir :\",os.getcwd())\n",
        "\n",
        "        if(i==0):\n",
        "            os.chdir('0')\n",
        "        elif(i==1):\n",
        "            os.chdir('../1')\n",
        "        elif(i==2):\n",
        "            os.chdir('../2')\n",
        "        elif(i==3):\n",
        "            os.chdir('../3')\n",
        "        elif(i==4):\n",
        "            os.chdir('../4')\n",
        "\n",
        "        print(\"Changed to dir      :\",os.getcwd(),\"\\n\")\n",
        "        imagelist = os.listdir('.')\n",
        "\n",
        "        print(\"Total no.of images in folder {} are {}\".format(i,len(os.listdir('.'))))\n",
        "\n",
        "        imagepil = Image.open(imagelist[0])\n",
        "        imagepil.show()\n",
        "        \n",
        "        print(\"Checking image formats\\n\")\n",
        "\n",
        "        jpg = 0\n",
        "        png = 0\n",
        "        jpeg = 0\n",
        "        gif =0\n",
        "        other=0\n",
        "\n",
        "        for image in os.listdir('.'):\n",
        "\n",
        "            imgname, ext = os.path.splitext(image)\n",
        "            if(ext=='.jpg'):\n",
        "                jpg+=1\n",
        "            elif(ext=='.png'):\n",
        "                png+=1\n",
        "            elif(ext=='.jpeg'):\n",
        "                jpeg+=1\n",
        "            elif(ext=='.gif'):\n",
        "                gif+=1\n",
        "            else:\n",
        "                other+=1\n",
        "\n",
        "        print('jpg   images in folder {} are {}'.format(i,jpg))\n",
        "        print('png   images in folder {} are {}'.format(i,png))\n",
        "        print('jpeg  images in folder {} are {}'.format(i,jpeg))\n",
        "        print('gif   images in folder {} are {}'.format(i,gif))\n",
        "        print('other images in folder {} are {}'.format(i,other))\n"
      ],
      "metadata": {
        "id": "4xZYk-_ZT0rB"
      },
      "execution_count": 8,
      "outputs": []
    },
    {
      "cell_type": "code",
      "source": [
        "import numpy as np\n",
        "import matplotlib.image as mpimg\n",
        "import matplotlib.pyplot as plt\n",
        "import tensorflow as tf"
      ],
      "metadata": {
        "id": "ekML3gTpUqB4"
      },
      "execution_count": 9,
      "outputs": []
    },
    {
      "cell_type": "code",
      "source": [
        "import tensorflow as tf\n",
        "from tensorflow.keras.applications import *\n",
        "from tensorflow.keras.optimizers import *\n",
        "from tensorflow.keras.losses import *\n",
        "from tensorflow.keras.layers import *\n",
        "from tensorflow.keras.models import *\n",
        "from tensorflow.keras.callbacks import *\n",
        "from tensorflow.keras.preprocessing.image import *\n",
        "from tensorflow.keras.utils import *\n",
        "\n",
        "from sklearn.metrics import *\n",
        "from sklearn.model_selection import *\n",
        "import tensorflow.keras.backend as K\n",
        "\n",
        "import matplotlib.pyplot as plt\n",
        "import seaborn as sns\n",
        "from glob import glob\n",
        "from skimage.io import *\n",
        "%config Completer.use_jedi = False\n",
        "import warnings\n",
        "warnings.filterwarnings('ignore')\n",
        "print(\"All modules have been imported\")"
      ],
      "metadata": {
        "colab": {
          "base_uri": "https://localhost:8080/"
        },
        "id": "2lD3C_5WmRkF",
        "outputId": "7a88c342-566f-4a60-8eb5-8d0caadc7ff1"
      },
      "execution_count": 10,
      "outputs": [
        {
          "output_type": "stream",
          "name": "stdout",
          "text": [
            "All modules have been imported\n"
          ]
        }
      ]
    },
    {
      "cell_type": "code",
      "source": [
        "model = Sequential()\n",
        "model.add(ResNet50(input_shape=(264,264,3),include_top=True,weights=None))\n",
        "model.add(Flatten())\n",
        "model.add(Dense(550,activation=\"relu\"))\n",
        "model.add(Dropout(0.1,seed = 2019))\n",
        "model.add(Dense(400,activation =\"relu\"))\n",
        "model.add(Dropout(0.3,seed = 2019))\n",
        "model.add(Dense(300,activation =\"relu\"))\n",
        "model.add(Dropout(0.4,seed = 2019))\n",
        "model.add(Dense(200,activation =\"relu\"))\n",
        "model.add(Dropout(0.2,seed = 2019))\n",
        "model.add(Dense(5,activation = \"softmax\") )\n",
        "\n",
        "c3=tf.keras.callbacks.ReduceLROnPlateau(\n",
        "    monitor=\"val_loss\",\n",
        "    factor=0.1,\n",
        "    patience=2,\n",
        "    mode=\"auto\",\n",
        "    min_delta=0.0001,\n",
        "    cooldown=0,\n",
        "    min_lr=0.001\n",
        ")\n",
        "model.compile(optimizer='adam',loss='categorical_crossentropy', metrics=['accuracy','AUC'])"
      ],
      "metadata": {
        "id": "G-7ivSZYK0m_"
      },
      "execution_count": 31,
      "outputs": []
    },
    {
      "cell_type": "code",
      "source": [
        "model.summary()"
      ],
      "metadata": {
        "colab": {
          "base_uri": "https://localhost:8080/"
        },
        "id": "2KiR-Fvd_ShV",
        "outputId": "c5ea9fe4-0b3d-4a0b-e937-eb1c4de25bdb"
      },
      "execution_count": 32,
      "outputs": [
        {
          "output_type": "stream",
          "name": "stdout",
          "text": [
            "Model: \"sequential_5\"\n",
            "_________________________________________________________________\n",
            " Layer (type)                Output Shape              Param #   \n",
            "=================================================================\n",
            " resnet50 (Functional)       (None, 1000)              25636712  \n",
            "                                                                 \n",
            " flatten_4 (Flatten)         (None, 1000)              0         \n",
            "                                                                 \n",
            " dense_19 (Dense)            (None, 550)               550550    \n",
            "                                                                 \n",
            " dropout_8 (Dropout)         (None, 550)               0         \n",
            "                                                                 \n",
            " dense_20 (Dense)            (None, 400)               220400    \n",
            "                                                                 \n",
            " dropout_9 (Dropout)         (None, 400)               0         \n",
            "                                                                 \n",
            " dense_21 (Dense)            (None, 300)               120300    \n",
            "                                                                 \n",
            " dropout_10 (Dropout)        (None, 300)               0         \n",
            "                                                                 \n",
            " dense_22 (Dense)            (None, 200)               60200     \n",
            "                                                                 \n",
            " dropout_11 (Dropout)        (None, 200)               0         \n",
            "                                                                 \n",
            " dense_23 (Dense)            (None, 5)                 1005      \n",
            "                                                                 \n",
            "=================================================================\n",
            "Total params: 26,589,167\n",
            "Trainable params: 26,536,047\n",
            "Non-trainable params: 53,120\n",
            "_________________________________________________________________\n"
          ]
        }
      ]
    },
    {
      "cell_type": "code",
      "source": [
        "from tensorflow.keras.optimizers import RMSprop,SGD,Adam\n",
        "adam=Adam(learning_rate=0.001)\n",
        "model.compile(optimizer='adam', loss='categorical_crossentropy', metrics = ['acc'])"
      ],
      "metadata": {
        "id": "SsnmZ8haWH4U"
      },
      "execution_count": 33,
      "outputs": []
    },
    {
      "cell_type": "code",
      "source": [
        "bs=30      \n",
        "train_dir = \"/content/CustomDRDataset/train\"  \n",
        "validation_dir = \"/content/CustomDRDataset/train\"   \n",
        "from tensorflow.keras.preprocessing.image import ImageDataGenerator \n",
        "\n",
        "train_datagen = ImageDataGenerator( rescale = 1.0/255. )\n",
        "test_datagen  = ImageDataGenerator( rescale = 1.0/255. )\n",
        "\n",
        "train_generator=train_datagen.flow_from_directory(train_dir,batch_size=bs,class_mode='categorical',target_size=(180,180))\n",
        "\n",
        "validation_generator =  test_datagen.flow_from_directory(validation_dir,\n",
        "                                                         batch_size=bs,\n",
        "                                                         class_mode  = 'categorical',\n",
        "                                                         target_size=(180,180))"
      ],
      "metadata": {
        "colab": {
          "base_uri": "https://localhost:8080/"
        },
        "id": "MJJU1xUDWPgV",
        "outputId": "e9a74f94-bd0f-458f-8603-98c2a0d27b93"
      },
      "execution_count": 34,
      "outputs": [
        {
          "output_type": "stream",
          "name": "stdout",
          "text": [
            "Found 12705 images belonging to 5 classes.\n",
            "Found 12705 images belonging to 5 classes.\n"
          ]
        }
      ]
    },
    {
      "cell_type": "code",
      "source": [
        "history=model.fit(train_generator,\n",
        "                    validation_data=validation_generator,epochs=10,batch_size=256,verbose=1)"
      ],
      "metadata": {
        "colab": {
          "base_uri": "https://localhost:8080/"
        },
        "id": "1EkyY2EZ-qoG",
        "outputId": "ccf71c87-4c82-41b2-da70-90cb578c3ac7"
      },
      "execution_count": 38,
      "outputs": [
        {
          "output_type": "stream",
          "name": "stdout",
          "text": [
            "Epoch 1/10\n",
            "424/424 [==============================] - 328s 773ms/step - loss: 1.6091 - acc: 0.2076 - val_loss: 1.6090 - val_acc: 0.2085\n",
            "Epoch 2/10\n",
            "424/424 [==============================] - 325s 766ms/step - loss: 1.6091 - acc: 0.2070 - val_loss: 1.6090 - val_acc: 0.2085\n",
            "Epoch 3/10\n",
            "424/424 [==============================] - 325s 766ms/step - loss: 1.6091 - acc: 0.2079 - val_loss: 1.6090 - val_acc: 0.2085\n",
            "Epoch 4/10\n",
            "424/424 [==============================] - 324s 765ms/step - loss: 1.6092 - acc: 0.2033 - val_loss: 1.6090 - val_acc: 0.2085\n",
            "Epoch 5/10\n",
            "424/424 [==============================] - 325s 766ms/step - loss: 1.6091 - acc: 0.2057 - val_loss: 1.6090 - val_acc: 0.2085\n",
            "Epoch 6/10\n",
            "424/424 [==============================] - 325s 766ms/step - loss: 1.6092 - acc: 0.2067 - val_loss: 1.6090 - val_acc: 0.2085\n",
            "Epoch 7/10\n",
            "424/424 [==============================] - 327s 771ms/step - loss: 1.6091 - acc: 0.2046 - val_loss: 1.6091 - val_acc: 0.2085\n",
            "Epoch 8/10\n",
            "424/424 [==============================] - 328s 773ms/step - loss: 1.6093 - acc: 0.2054 - val_loss: 1.6090 - val_acc: 0.2085\n",
            "Epoch 9/10\n",
            "424/424 [==============================] - 329s 777ms/step - loss: 1.6091 - acc: 0.2079 - val_loss: 1.6090 - val_acc: 0.2085\n",
            "Epoch 10/10\n",
            "424/424 [==============================] - 331s 781ms/step - loss: 1.6092 - acc: 0.2020 - val_loss: 1.6090 - val_acc: 0.2085\n"
          ]
        }
      ]
    },
    {
      "cell_type": "code",
      "source": [
        "Loss, Accuracy = model.evaluate(validation_generator, batch_size=256)"
      ],
      "metadata": {
        "colab": {
          "base_uri": "https://localhost:8080/"
        },
        "id": "Qk8tP1NsomAf",
        "outputId": "da94e115-ad0f-4de4-b67d-94ef681902cd"
      },
      "execution_count": 41,
      "outputs": [
        {
          "output_type": "stream",
          "name": "stdout",
          "text": [
            "424/424 [==============================] - 159s 374ms/step - loss: 1.6090 - acc: 0.2085\n",
            "424/424 [==============================] - 157s 371ms/step - loss: 1.6090 - acc: 0.2085\n"
          ]
        }
      ]
    },
    {
      "cell_type": "code",
      "source": [
        "print('Loss is {} %'.format(Loss*100))\n",
        "print('Accuracy is {} %'.format(Accuracy*100 ))"
      ],
      "metadata": {
        "colab": {
          "base_uri": "https://localhost:8080/"
        },
        "id": "YUXEi9ZupENC",
        "outputId": "37171e1e-444c-4fae-e4d9-83ffc51abf33"
      },
      "execution_count": 42,
      "outputs": [
        {
          "output_type": "stream",
          "name": "stdout",
          "text": [
            "Loss is 160.8964204788208 %\n",
            "Accuracy is 20.850059390068054 %\n",
            "Loss is 160.89634895324707 %\n",
            "Accuracy is 20.850059390068054 %\n"
          ]
        }
      ]
    }
  ]
}